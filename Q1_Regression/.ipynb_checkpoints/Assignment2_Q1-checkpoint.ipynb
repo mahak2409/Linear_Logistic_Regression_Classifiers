{
 "cells": [
  {
   "cell_type": "code",
   "execution_count": 1,
   "metadata": {
    "id": "dev5we-A1mCX"
   },
   "outputs": [],
   "source": [
    "import numpy as np\n",
    "import pandas as pd\n",
    "from copy import copy\n",
    "from sklearn.linear_model import LinearRegression\n",
    "from sklearn.metrics import mean_squared_error\n",
    "import joblib\n",
    "import warnings\n",
    "warnings.filterwarnings(\"ignore\")\n"
   ]
  },
  {
   "cell_type": "code",
   "execution_count": 2,
   "metadata": {
    "id": "0pR21RHBHZOr"
   },
   "outputs": [],
   "source": [
    "#Importing regression.py class\n",
    "from Regression import Regression"
   ]
  },
  {
   "cell_type": "code",
   "execution_count": 3,
   "metadata": {
    "colab": {
     "base_uri": "https://localhost:8080/",
     "height": 424
    },
    "id": "PeX5Eow93xaS",
    "outputId": "95d6058c-0246-4f2e-f228-a8c0fcd7d36d"
   },
   "outputs": [
    {
     "data": {
      "text/html": [
       "<div>\n",
       "<style scoped>\n",
       "    .dataframe tbody tr th:only-of-type {\n",
       "        vertical-align: middle;\n",
       "    }\n",
       "\n",
       "    .dataframe tbody tr th {\n",
       "        vertical-align: top;\n",
       "    }\n",
       "\n",
       "    .dataframe thead th {\n",
       "        text-align: right;\n",
       "    }\n",
       "</style>\n",
       "<table border=\"1\" class=\"dataframe\">\n",
       "  <thead>\n",
       "    <tr style=\"text-align: right;\">\n",
       "      <th></th>\n",
       "      <th>0</th>\n",
       "      <th>1</th>\n",
       "      <th>2</th>\n",
       "      <th>3</th>\n",
       "      <th>4</th>\n",
       "      <th>5</th>\n",
       "      <th>6</th>\n",
       "      <th>7</th>\n",
       "      <th>8</th>\n",
       "    </tr>\n",
       "  </thead>\n",
       "  <tbody>\n",
       "    <tr>\n",
       "      <th>0</th>\n",
       "      <td>M</td>\n",
       "      <td>0.455</td>\n",
       "      <td>0.365</td>\n",
       "      <td>0.095</td>\n",
       "      <td>0.5140</td>\n",
       "      <td>0.2245</td>\n",
       "      <td>0.1010</td>\n",
       "      <td>0.1500</td>\n",
       "      <td>15</td>\n",
       "    </tr>\n",
       "    <tr>\n",
       "      <th>1</th>\n",
       "      <td>M</td>\n",
       "      <td>0.350</td>\n",
       "      <td>0.265</td>\n",
       "      <td>0.090</td>\n",
       "      <td>0.2255</td>\n",
       "      <td>0.0995</td>\n",
       "      <td>0.0485</td>\n",
       "      <td>0.0700</td>\n",
       "      <td>7</td>\n",
       "    </tr>\n",
       "    <tr>\n",
       "      <th>2</th>\n",
       "      <td>F</td>\n",
       "      <td>0.530</td>\n",
       "      <td>0.420</td>\n",
       "      <td>0.135</td>\n",
       "      <td>0.6770</td>\n",
       "      <td>0.2565</td>\n",
       "      <td>0.1415</td>\n",
       "      <td>0.2100</td>\n",
       "      <td>9</td>\n",
       "    </tr>\n",
       "    <tr>\n",
       "      <th>3</th>\n",
       "      <td>M</td>\n",
       "      <td>0.440</td>\n",
       "      <td>0.365</td>\n",
       "      <td>0.125</td>\n",
       "      <td>0.5160</td>\n",
       "      <td>0.2155</td>\n",
       "      <td>0.1140</td>\n",
       "      <td>0.1550</td>\n",
       "      <td>10</td>\n",
       "    </tr>\n",
       "    <tr>\n",
       "      <th>4</th>\n",
       "      <td>I</td>\n",
       "      <td>0.330</td>\n",
       "      <td>0.255</td>\n",
       "      <td>0.080</td>\n",
       "      <td>0.2050</td>\n",
       "      <td>0.0895</td>\n",
       "      <td>0.0395</td>\n",
       "      <td>0.0550</td>\n",
       "      <td>7</td>\n",
       "    </tr>\n",
       "    <tr>\n",
       "      <th>...</th>\n",
       "      <td>...</td>\n",
       "      <td>...</td>\n",
       "      <td>...</td>\n",
       "      <td>...</td>\n",
       "      <td>...</td>\n",
       "      <td>...</td>\n",
       "      <td>...</td>\n",
       "      <td>...</td>\n",
       "      <td>...</td>\n",
       "    </tr>\n",
       "    <tr>\n",
       "      <th>4172</th>\n",
       "      <td>F</td>\n",
       "      <td>0.565</td>\n",
       "      <td>0.450</td>\n",
       "      <td>0.165</td>\n",
       "      <td>0.8870</td>\n",
       "      <td>0.3700</td>\n",
       "      <td>0.2390</td>\n",
       "      <td>0.2490</td>\n",
       "      <td>11</td>\n",
       "    </tr>\n",
       "    <tr>\n",
       "      <th>4173</th>\n",
       "      <td>M</td>\n",
       "      <td>0.590</td>\n",
       "      <td>0.440</td>\n",
       "      <td>0.135</td>\n",
       "      <td>0.9660</td>\n",
       "      <td>0.4390</td>\n",
       "      <td>0.2145</td>\n",
       "      <td>0.2605</td>\n",
       "      <td>10</td>\n",
       "    </tr>\n",
       "    <tr>\n",
       "      <th>4174</th>\n",
       "      <td>M</td>\n",
       "      <td>0.600</td>\n",
       "      <td>0.475</td>\n",
       "      <td>0.205</td>\n",
       "      <td>1.1760</td>\n",
       "      <td>0.5255</td>\n",
       "      <td>0.2875</td>\n",
       "      <td>0.3080</td>\n",
       "      <td>9</td>\n",
       "    </tr>\n",
       "    <tr>\n",
       "      <th>4175</th>\n",
       "      <td>F</td>\n",
       "      <td>0.625</td>\n",
       "      <td>0.485</td>\n",
       "      <td>0.150</td>\n",
       "      <td>1.0945</td>\n",
       "      <td>0.5310</td>\n",
       "      <td>0.2610</td>\n",
       "      <td>0.2960</td>\n",
       "      <td>10</td>\n",
       "    </tr>\n",
       "    <tr>\n",
       "      <th>4176</th>\n",
       "      <td>M</td>\n",
       "      <td>0.710</td>\n",
       "      <td>0.555</td>\n",
       "      <td>0.195</td>\n",
       "      <td>1.9485</td>\n",
       "      <td>0.9455</td>\n",
       "      <td>0.3765</td>\n",
       "      <td>0.4950</td>\n",
       "      <td>12</td>\n",
       "    </tr>\n",
       "  </tbody>\n",
       "</table>\n",
       "<p>4177 rows × 9 columns</p>\n",
       "</div>"
      ],
      "text/plain": [
       "      0      1      2      3       4       5       6       7   8\n",
       "0     M  0.455  0.365  0.095  0.5140  0.2245  0.1010  0.1500  15\n",
       "1     M  0.350  0.265  0.090  0.2255  0.0995  0.0485  0.0700   7\n",
       "2     F  0.530  0.420  0.135  0.6770  0.2565  0.1415  0.2100   9\n",
       "3     M  0.440  0.365  0.125  0.5160  0.2155  0.1140  0.1550  10\n",
       "4     I  0.330  0.255  0.080  0.2050  0.0895  0.0395  0.0550   7\n",
       "...  ..    ...    ...    ...     ...     ...     ...     ...  ..\n",
       "4172  F  0.565  0.450  0.165  0.8870  0.3700  0.2390  0.2490  11\n",
       "4173  M  0.590  0.440  0.135  0.9660  0.4390  0.2145  0.2605  10\n",
       "4174  M  0.600  0.475  0.205  1.1760  0.5255  0.2875  0.3080   9\n",
       "4175  F  0.625  0.485  0.150  1.0945  0.5310  0.2610  0.2960  10\n",
       "4176  M  0.710  0.555  0.195  1.9485  0.9455  0.3765  0.4950  12\n",
       "\n",
       "[4177 rows x 9 columns]"
      ]
     },
     "execution_count": 3,
     "metadata": {},
     "output_type": "execute_result"
    }
   ],
   "source": [
    "#Importing data frame\n",
    "df = pd.read_csv(\"Dataset.data\",delimiter=\" \",header=None)\n",
    "df \n"
   ]
  },
  {
   "cell_type": "code",
   "execution_count": 4,
   "metadata": {
    "colab": {
     "base_uri": "https://localhost:8080/",
     "height": 424
    },
    "id": "9SrSViNO-C6J",
    "outputId": "e7a9bea6-30c1-4d0d-b280-e1b4bc787bea"
   },
   "outputs": [
    {
     "data": {
      "text/html": [
       "<div>\n",
       "<style scoped>\n",
       "    .dataframe tbody tr th:only-of-type {\n",
       "        vertical-align: middle;\n",
       "    }\n",
       "\n",
       "    .dataframe tbody tr th {\n",
       "        vertical-align: top;\n",
       "    }\n",
       "\n",
       "    .dataframe thead th {\n",
       "        text-align: right;\n",
       "    }\n",
       "</style>\n",
       "<table border=\"1\" class=\"dataframe\">\n",
       "  <thead>\n",
       "    <tr style=\"text-align: right;\">\n",
       "      <th></th>\n",
       "      <th>1</th>\n",
       "      <th>2</th>\n",
       "      <th>3</th>\n",
       "      <th>4</th>\n",
       "      <th>5</th>\n",
       "      <th>6</th>\n",
       "      <th>7</th>\n",
       "      <th>8</th>\n",
       "      <th>0_F</th>\n",
       "      <th>0_I</th>\n",
       "      <th>0_M</th>\n",
       "    </tr>\n",
       "  </thead>\n",
       "  <tbody>\n",
       "    <tr>\n",
       "      <th>0</th>\n",
       "      <td>0.455</td>\n",
       "      <td>0.365</td>\n",
       "      <td>0.095</td>\n",
       "      <td>0.5140</td>\n",
       "      <td>0.2245</td>\n",
       "      <td>0.1010</td>\n",
       "      <td>0.1500</td>\n",
       "      <td>15</td>\n",
       "      <td>0</td>\n",
       "      <td>0</td>\n",
       "      <td>1</td>\n",
       "    </tr>\n",
       "    <tr>\n",
       "      <th>1</th>\n",
       "      <td>0.350</td>\n",
       "      <td>0.265</td>\n",
       "      <td>0.090</td>\n",
       "      <td>0.2255</td>\n",
       "      <td>0.0995</td>\n",
       "      <td>0.0485</td>\n",
       "      <td>0.0700</td>\n",
       "      <td>7</td>\n",
       "      <td>0</td>\n",
       "      <td>0</td>\n",
       "      <td>1</td>\n",
       "    </tr>\n",
       "    <tr>\n",
       "      <th>2</th>\n",
       "      <td>0.530</td>\n",
       "      <td>0.420</td>\n",
       "      <td>0.135</td>\n",
       "      <td>0.6770</td>\n",
       "      <td>0.2565</td>\n",
       "      <td>0.1415</td>\n",
       "      <td>0.2100</td>\n",
       "      <td>9</td>\n",
       "      <td>1</td>\n",
       "      <td>0</td>\n",
       "      <td>0</td>\n",
       "    </tr>\n",
       "    <tr>\n",
       "      <th>3</th>\n",
       "      <td>0.440</td>\n",
       "      <td>0.365</td>\n",
       "      <td>0.125</td>\n",
       "      <td>0.5160</td>\n",
       "      <td>0.2155</td>\n",
       "      <td>0.1140</td>\n",
       "      <td>0.1550</td>\n",
       "      <td>10</td>\n",
       "      <td>0</td>\n",
       "      <td>0</td>\n",
       "      <td>1</td>\n",
       "    </tr>\n",
       "    <tr>\n",
       "      <th>4</th>\n",
       "      <td>0.330</td>\n",
       "      <td>0.255</td>\n",
       "      <td>0.080</td>\n",
       "      <td>0.2050</td>\n",
       "      <td>0.0895</td>\n",
       "      <td>0.0395</td>\n",
       "      <td>0.0550</td>\n",
       "      <td>7</td>\n",
       "      <td>0</td>\n",
       "      <td>1</td>\n",
       "      <td>0</td>\n",
       "    </tr>\n",
       "    <tr>\n",
       "      <th>...</th>\n",
       "      <td>...</td>\n",
       "      <td>...</td>\n",
       "      <td>...</td>\n",
       "      <td>...</td>\n",
       "      <td>...</td>\n",
       "      <td>...</td>\n",
       "      <td>...</td>\n",
       "      <td>...</td>\n",
       "      <td>...</td>\n",
       "      <td>...</td>\n",
       "      <td>...</td>\n",
       "    </tr>\n",
       "    <tr>\n",
       "      <th>4172</th>\n",
       "      <td>0.565</td>\n",
       "      <td>0.450</td>\n",
       "      <td>0.165</td>\n",
       "      <td>0.8870</td>\n",
       "      <td>0.3700</td>\n",
       "      <td>0.2390</td>\n",
       "      <td>0.2490</td>\n",
       "      <td>11</td>\n",
       "      <td>1</td>\n",
       "      <td>0</td>\n",
       "      <td>0</td>\n",
       "    </tr>\n",
       "    <tr>\n",
       "      <th>4173</th>\n",
       "      <td>0.590</td>\n",
       "      <td>0.440</td>\n",
       "      <td>0.135</td>\n",
       "      <td>0.9660</td>\n",
       "      <td>0.4390</td>\n",
       "      <td>0.2145</td>\n",
       "      <td>0.2605</td>\n",
       "      <td>10</td>\n",
       "      <td>0</td>\n",
       "      <td>0</td>\n",
       "      <td>1</td>\n",
       "    </tr>\n",
       "    <tr>\n",
       "      <th>4174</th>\n",
       "      <td>0.600</td>\n",
       "      <td>0.475</td>\n",
       "      <td>0.205</td>\n",
       "      <td>1.1760</td>\n",
       "      <td>0.5255</td>\n",
       "      <td>0.2875</td>\n",
       "      <td>0.3080</td>\n",
       "      <td>9</td>\n",
       "      <td>0</td>\n",
       "      <td>0</td>\n",
       "      <td>1</td>\n",
       "    </tr>\n",
       "    <tr>\n",
       "      <th>4175</th>\n",
       "      <td>0.625</td>\n",
       "      <td>0.485</td>\n",
       "      <td>0.150</td>\n",
       "      <td>1.0945</td>\n",
       "      <td>0.5310</td>\n",
       "      <td>0.2610</td>\n",
       "      <td>0.2960</td>\n",
       "      <td>10</td>\n",
       "      <td>1</td>\n",
       "      <td>0</td>\n",
       "      <td>0</td>\n",
       "    </tr>\n",
       "    <tr>\n",
       "      <th>4176</th>\n",
       "      <td>0.710</td>\n",
       "      <td>0.555</td>\n",
       "      <td>0.195</td>\n",
       "      <td>1.9485</td>\n",
       "      <td>0.9455</td>\n",
       "      <td>0.3765</td>\n",
       "      <td>0.4950</td>\n",
       "      <td>12</td>\n",
       "      <td>0</td>\n",
       "      <td>0</td>\n",
       "      <td>1</td>\n",
       "    </tr>\n",
       "  </tbody>\n",
       "</table>\n",
       "<p>4177 rows × 11 columns</p>\n",
       "</div>"
      ],
      "text/plain": [
       "          1      2      3       4       5       6       7   8  0_F  0_I  0_M\n",
       "0     0.455  0.365  0.095  0.5140  0.2245  0.1010  0.1500  15    0    0    1\n",
       "1     0.350  0.265  0.090  0.2255  0.0995  0.0485  0.0700   7    0    0    1\n",
       "2     0.530  0.420  0.135  0.6770  0.2565  0.1415  0.2100   9    1    0    0\n",
       "3     0.440  0.365  0.125  0.5160  0.2155  0.1140  0.1550  10    0    0    1\n",
       "4     0.330  0.255  0.080  0.2050  0.0895  0.0395  0.0550   7    0    1    0\n",
       "...     ...    ...    ...     ...     ...     ...     ...  ..  ...  ...  ...\n",
       "4172  0.565  0.450  0.165  0.8870  0.3700  0.2390  0.2490  11    1    0    0\n",
       "4173  0.590  0.440  0.135  0.9660  0.4390  0.2145  0.2605  10    0    0    1\n",
       "4174  0.600  0.475  0.205  1.1760  0.5255  0.2875  0.3080   9    0    0    1\n",
       "4175  0.625  0.485  0.150  1.0945  0.5310  0.2610  0.2960  10    1    0    0\n",
       "4176  0.710  0.555  0.195  1.9485  0.9455  0.3765  0.4950  12    0    0    1\n",
       "\n",
       "[4177 rows x 11 columns]"
      ]
     },
     "execution_count": 4,
     "metadata": {},
     "output_type": "execute_result"
    }
   ],
   "source": [
    "#One hot encoding implementation, So, that all attributes have numeric values\n",
    "features=df.columns\n",
    "one_hot_features=pd.get_dummies(df)\n",
    "one_hot_features"
   ]
  },
  {
   "cell_type": "code",
   "execution_count": 5,
   "metadata": {
    "id": "ZJRjKmNBsEOQ"
   },
   "outputs": [],
   "source": [
    "#Mean Square Error Calculating Function\n",
    "def MSE(y_actual,y_predicted):\n",
    "      y_actual = y_actual.to_numpy()\n",
    "      difference = y_actual - y_predicted\n",
    "      difference = np.square(difference)\n",
    "      mse = np.average(difference,axis=0)\n",
    "\n",
    "      return mse"
   ]
  },
  {
   "cell_type": "code",
   "execution_count": 6,
   "metadata": {
    "id": "zuOycmUIBGMa"
   },
   "outputs": [],
   "source": [
    "#Generic Function which will give n-folds of the data\n",
    "def split_n_folds(df,n):\n",
    "  splitDataframe=[]\n",
    "  split = int(np.ceil(df.shape[0]/n))\n",
    "  for x in np.arange(0,df.shape[0],split):\n",
    "    a=x+split\n",
    "    splitDataframe.append(df[x:a])\n",
    "  return splitDataframe"
   ]
  },
  {
   "cell_type": "code",
   "execution_count": 7,
   "metadata": {
    "colab": {
     "base_uri": "https://localhost:8080/"
    },
    "id": "Fx3amgLkjCI9",
    "outputId": "10d4aceb-b8d6-449e-b5d7-71ad7f1c9591"
   },
   "outputs": [
    {
     "data": {
      "text/plain": [
       "[         1      2      3       4       5       6       7   8  0_F  0_I  0_M\n",
       " 0    0.455  0.365  0.095  0.5140  0.2245  0.1010  0.1500  15    0    0    1\n",
       " 1    0.350  0.265  0.090  0.2255  0.0995  0.0485  0.0700   7    0    0    1\n",
       " 2    0.530  0.420  0.135  0.6770  0.2565  0.1415  0.2100   9    1    0    0\n",
       " 3    0.440  0.365  0.125  0.5160  0.2155  0.1140  0.1550  10    0    0    1\n",
       " 4    0.330  0.255  0.080  0.2050  0.0895  0.0395  0.0550   7    0    1    0\n",
       " ..     ...    ...    ...     ...     ...     ...     ...  ..  ...  ...  ...\n",
       " 831  0.425  0.325  0.100  0.3980  0.1185  0.0645  0.0945   6    0    1    0\n",
       " 832  0.440  0.365  0.115  0.5010  0.2435  0.0840  0.1465   9    0    1    0\n",
       " 833  0.445  0.335  0.100  0.4895  0.2745  0.0860  0.1105   7    0    1    0\n",
       " 834  0.445  0.325  0.100  0.3780  0.1795  0.1000  0.0890   7    0    1    0\n",
       " 835  0.450  0.350  0.130  0.5470  0.2450  0.1405  0.1405   8    0    1    0\n",
       " \n",
       " [836 rows x 11 columns],\n",
       "           1      2      3       4       5       6       7   8  0_F  0_I  0_M\n",
       " 836   0.470  0.375  0.120  0.5805  0.2660  0.0935  0.1690   8    0    0    1\n",
       " 837   0.475  0.365  0.125  0.5465  0.2290  0.1185  0.1720   9    0    1    0\n",
       " 838   0.480  0.365  0.135  0.6395  0.2945  0.1130  0.1750   8    1    0    0\n",
       " 839   0.485  0.355  0.105  0.4980  0.2175  0.0960  0.1525   9    0    1    0\n",
       " 840   0.490  0.385  0.125  0.6090  0.3065  0.0960  0.1775   8    0    0    1\n",
       " ...     ...    ...    ...     ...     ...     ...     ...  ..  ...  ...  ...\n",
       " 1667  0.605  0.505  0.180  1.4340  0.7285  0.2640  0.4310  11    1    0    0\n",
       " 1668  0.610  0.475  0.155  0.9830  0.4565  0.2280  0.2660  10    0    0    1\n",
       " 1669  0.610  0.465  0.160  1.0725  0.4835  0.2515  0.2800  10    1    0    0\n",
       " 1670  0.610  0.485  0.150  1.2405  0.6025  0.2915  0.3085  12    1    0    0\n",
       " 1671  0.610  0.470  0.160  1.0220  0.4490  0.2345  0.2945   9    0    0    1\n",
       " \n",
       " [836 rows x 11 columns],\n",
       "           1      2      3       4       5       6       7   8  0_F  0_I  0_M\n",
       " 1672  0.610  0.475  0.160  1.1155  0.3835  0.2230  0.3790  10    1    0    0\n",
       " 1673  0.610  0.465  0.125  0.9225  0.4360  0.1900  0.2600   9    0    1    0\n",
       " 1674  0.610  0.470  0.170  1.1185  0.5225  0.2405  0.3100   9    0    0    1\n",
       " 1675  0.610  0.485  0.180  1.2795  0.5735  0.2855  0.3550   7    1    0    0\n",
       " 1676  0.615  0.470  0.160  1.0175  0.4730  0.2395  0.2800  10    0    0    1\n",
       " ...     ...    ...    ...     ...     ...     ...     ...  ..  ...  ...  ...\n",
       " 2503  0.300  0.230  0.075  0.1270  0.0520  0.0300  0.0345   6    0    1    0\n",
       " 2504  0.310  0.240  0.105  0.2885  0.1180  0.0650  0.0830   6    0    1    0\n",
       " 2505  0.340  0.255  0.075  0.1800  0.0745  0.0400  0.0525   6    0    1    0\n",
       " 2506  0.375  0.300  0.075  0.1440  0.0590  0.0300  0.0440   7    0    1    0\n",
       " 2507  0.415  0.325  0.100  0.4665  0.2285  0.1065  0.1140   7    0    1    0\n",
       " \n",
       " [836 rows x 11 columns],\n",
       "           1      2      3       4       5       6       7   8  0_F  0_I  0_M\n",
       " 2508  0.415  0.315  0.105  0.3300  0.1405  0.0705  0.0950   6    0    1    0\n",
       " 2509  0.415  0.315  0.090  0.3625  0.1750  0.0835  0.0930   6    0    1    0\n",
       " 2510  0.420  0.320  0.100  0.3400  0.1745  0.0500  0.0945   8    0    1    0\n",
       " 2511  0.425  0.310  0.105  0.3650  0.1590  0.0825  0.1050   6    0    1    0\n",
       " 2512  0.465  0.375  0.110  0.5000  0.2100  0.1130  0.1505   8    0    0    1\n",
       " ...     ...    ...    ...     ...     ...     ...     ...  ..  ...  ...  ...\n",
       " 3339  0.585  0.475  0.185  0.8575  0.3465  0.1785  0.2750  12    1    0    0\n",
       " 3340  0.540  0.435  0.145  0.9700  0.4285  0.2200  0.2640  17    0    1    0\n",
       " 3341  0.490  0.390  0.135  0.5900  0.2150  0.1250  0.1845  12    1    0    0\n",
       " 3342  0.430  0.330  0.095  0.3400  0.1315  0.0850  0.1120  14    0    0    1\n",
       " 3343  0.455  0.365  0.110  0.3850  0.1660  0.0460  0.1345  13    1    0    0\n",
       " \n",
       " [836 rows x 11 columns],\n",
       "           1      2      3       4       5       6       7   8  0_F  0_I  0_M\n",
       " 3344  0.495  0.380  0.145  0.5150  0.1750  0.0980  0.2120  13    0    1    0\n",
       " 3345  0.480  0.380  0.145  0.5900  0.2320  0.1410  0.2300  12    1    0    0\n",
       " 3346  0.470  0.400  0.160  0.5100  0.1615  0.0730  0.1980  14    0    1    0\n",
       " 3347  0.415  0.320  0.100  0.3005  0.1215  0.0575  0.1040  11    0    0    1\n",
       " 3348  0.490  0.385  0.115  0.6830  0.3265  0.1615  0.1650  13    0    1    0\n",
       " ...     ...    ...    ...     ...     ...     ...     ...  ..  ...  ...  ...\n",
       " 4172  0.565  0.450  0.165  0.8870  0.3700  0.2390  0.2490  11    1    0    0\n",
       " 4173  0.590  0.440  0.135  0.9660  0.4390  0.2145  0.2605  10    0    0    1\n",
       " 4174  0.600  0.475  0.205  1.1760  0.5255  0.2875  0.3080   9    0    0    1\n",
       " 4175  0.625  0.485  0.150  1.0945  0.5310  0.2610  0.2960  10    1    0    0\n",
       " 4176  0.710  0.555  0.195  1.9485  0.9455  0.3765  0.4950  12    0    0    1\n",
       " \n",
       " [833 rows x 11 columns]]"
      ]
     },
     "execution_count": 7,
     "metadata": {},
     "output_type": "execute_result"
    }
   ],
   "source": [
    "#Call to n-fold function to divide it in 5-folds\n",
    "data_list = split_n_folds(one_hot_features,5)\n",
    "data_list"
   ]
  },
  {
   "cell_type": "markdown",
   "metadata": {
    "id": "x0RyJxPkRviC"
   },
   "source": [
    "Making the model and fitting and then calculating mse. Saving foldwise models using joblib as well"
   ]
  },
  {
   "cell_type": "code",
   "execution_count": 29,
   "metadata": {
    "colab": {
     "base_uri": "https://localhost:8080/"
    },
    "id": "YyGu7EVorWIE",
    "outputId": "41de2bfa-b347-41ab-885f-252607637ae4"
   },
   "outputs": [
    {
     "name": "stdout",
     "output_type": "stream",
     "text": [
      "Train mse\t[3.7621029631458547, 5.310196776905305, 4.625097919316821, 5.074881093796767, 5.0323620663875595]\t\n",
      "\tValidation mse\t[9.77379641008149, 3.019181977048445, 5.849455180921052, 3.8387597188995217, 3.939529327355942]\n"
     ]
    }
   ],
   "source": [
    "#List to store train and validation mse values for each folds\n",
    "n_fold_train = []\n",
    "n_fold_test = []\n",
    "i =0\n",
    "#Loop to implement functions of regression class on each 5-folds\n",
    "for x in range(len(data_list)):\n",
    "  #Making regression class object\n",
    "  reg = Regression()\n",
    "\n",
    "  #Making copy of the data. So, that in every fold main data is not altered\n",
    "  data = copy(data_list)\n",
    "\n",
    "  #Taking the data foldwise for implementation\n",
    "  test = data.pop(x)\n",
    "  train = pd.concat(data)\n",
    "  train_X=train[['0_F','0_I','0_M',1,2,3,4,5,6,7]]\n",
    "  train_y= train[8]\n",
    "  test_X=test[['0_F','0_I','0_M',1,2,3,4,5,6,7]]\n",
    "  test_y= test[8]\n",
    "\n",
    "  #Fitting the model on training data\n",
    "  reg.fit(train_X,train_y)\n",
    "\n",
    "  #Saving the model foldwise\n",
    "  name = \"model\"+str(i)+\".sav\"\n",
    "  filename = name\n",
    "  joblib.dump(reg,filename)\n",
    "\n",
    "  #Calling predict function on training and validation data \n",
    "  trainy_predicted = reg.predict(train_X)\n",
    "  testy_predicted = reg.predict(test_X)\n",
    "\n",
    "  #Calculatin mse on both training and validation data\n",
    "  Train_mse = MSE(train_y,trainy_predicted)\n",
    "  Test_mse = MSE(test_y,testy_predicted)\n",
    "\n",
    "  #Appending foldwise mse values of training and validation data \n",
    "  n_fold_train.append(Train_mse)\n",
    "  n_fold_test.append(Test_mse)\n",
    "  i = i+1\n",
    "\n",
    "#Printing the list which contains foldwise mse values for training and validation set  \n",
    "print('Train mse',n_fold_train,'\\n','Validation mse',n_fold_test,sep='\\t')\n",
    "  \n"
   ]
  },
  {
   "cell_type": "markdown",
   "metadata": {
    "id": "Be7IirjCRrbW"
   },
   "source": [
    "Using Saved model for mse calculation"
   ]
  },
  {
   "cell_type": "code",
   "execution_count": 8,
   "metadata": {
    "colab": {
     "base_uri": "https://localhost:8080/"
    },
    "id": "__74ccS4Ppu4",
    "outputId": "1c5645e5-2e9a-4327-dd03-703ea31061a6"
   },
   "outputs": [
    {
     "name": "stdout",
     "output_type": "stream",
     "text": [
      "Train mse\t[3.762134947344344, 5.310142665521644, 4.625581743045682, 5.074301542974596, 5.03173857328424]\t\n",
      "\tValidation mse\t[9.773657764544327, 3.021925857762971, 5.847498259475927, 3.836889823658044, 3.9336617459483794]\n"
     ]
    }
   ],
   "source": [
    "#List to store train and validation mse values for each folds\n",
    "n_fold_train = []\n",
    "n_fold_test = []\n",
    "i =0\n",
    "#Loop to implement functions of regression class on each 5-folds\n",
    "for x in range(len(data_list)):\n",
    "\n",
    "  #Making copy of the data. So, that in every fold main data is not altered\n",
    "  data = copy(data_list)\n",
    "\n",
    "  #Taking the data foldwise for implementation\n",
    "  test = data.pop(x)\n",
    "  train = pd.concat(data)\n",
    "  train_X=train[['0_F','0_I','0_M',1,2,3,4,5,6,7]]\n",
    "  train_y= train[8]\n",
    "  test_X=test[['0_F','0_I','0_M',1,2,3,4,5,6,7]]\n",
    "  test_y= test[8]\n",
    "\n",
    "  # Fitting the model on training data\n",
    "  # reg.fit(train_X,train_y)\n",
    "\n",
    "  #Using saved the model foldwise\n",
    "  name = \"model\"+str(i)+\".sav\"\n",
    "  filename = name\n",
    "  stored_model = joblib.load(filename)\n",
    "\n",
    "  #Calling predict function on training and validation data \n",
    "  trainy_predicted = stored_model.predict(train_X)\n",
    "  testy_predicted = stored_model.predict(test_X)\n",
    "\n",
    "  #Calculatin mse on both training and validation data\n",
    "  Train_mse = MSE(train_y,trainy_predicted)\n",
    "  Test_mse = MSE(test_y,testy_predicted)\n",
    "\n",
    "  #Appending foldwise mse values of training and validation data \n",
    "  n_fold_train.append(Train_mse)\n",
    "  n_fold_test.append(Test_mse)\n",
    "  i = i+1\n",
    "  \n",
    "\n",
    "#Printing the list which contains foldwise mse values for training and validation set  \n",
    "print('Train mse',n_fold_train,'\\n','Validation mse',n_fold_test,sep='\\t')\n",
    "  \n"
   ]
  },
  {
   "cell_type": "code",
   "execution_count": null,
   "metadata": {
    "id": "xu-PxF9vPpmw"
   },
   "outputs": [],
   "source": []
  },
  {
   "cell_type": "code",
   "execution_count": 9,
   "metadata": {
    "colab": {
     "base_uri": "https://localhost:8080/"
    },
    "id": "4hNZDdoqvBm7",
    "outputId": "cca9d3c8-c0ce-49c7-f819-3a5ac8118d8a"
   },
   "outputs": [
    {
     "name": "stdout",
     "output_type": "stream",
     "text": [
      "Training mean 4.760779894434101 validation mean 5.28272669027793\n"
     ]
    }
   ],
   "source": [
    "#Calculating  mean of training mse values\n",
    "training_mean = sum(n_fold_train)/len(n_fold_train)\n",
    "\n",
    "#Calculating mean of validation mse values\n",
    "validation_mean = sum(n_fold_test)/len(n_fold_test)\n",
    "\n",
    "#Printing the mean value of training mse and validation mse\n",
    "print('Training mean',training_mean,'validation mean',validation_mean)"
   ]
  },
  {
   "cell_type": "markdown",
   "metadata": {
    "id": "UCuHXQaWRUJS"
   },
   "source": [
    "Using Saved Model for sklearn mse calculation"
   ]
  },
  {
   "cell_type": "code",
   "execution_count": 10,
   "metadata": {
    "colab": {
     "base_uri": "https://localhost:8080/"
    },
    "id": "GyVNygfqQ6Es",
    "outputId": "a63dd62a-7c62-40c4-e81b-ff941addfa0b"
   },
   "outputs": [
    {
     "name": "stdout",
     "output_type": "stream",
     "text": [
      "Train mse\t[3.762134947344344, 5.310142665521644, 4.625581743045682, 5.074301542974596, 5.03173857328424]\t\n",
      "\tTest mse\t[9.773657764544327, 3.021925857762971, 5.847498259475927, 3.836889823658044, 3.9336617459483794]\n"
     ]
    }
   ],
   "source": [
    "#Using sklearn mean_squared_error function and calculating mse for each fold on training and validation set\n",
    "\n",
    "#List to store mse values foldwise for training set and validation set\n",
    "train_inbuilt = []\n",
    "test_inbuilt = []\n",
    "i=0\n",
    "\n",
    "#Loop to implement mse functions of sklearn regression class on each 5-folds\n",
    "for x in range(len(data_list)):\n",
    "\n",
    "  #Making copy of the data. So, that in every fold main data is not altered\n",
    "  data = copy(data_list)\n",
    "\n",
    "  #Taking the data foldwise for implementation\n",
    "  test = data.pop(x)\n",
    "  train = pd.concat(data)\n",
    "  train_X=train[['0_F','0_I','0_M',1,2,3,4,5,6,7]]\n",
    "  train_y= train[8]\n",
    "  test_X=test[['0_F','0_I','0_M',1,2,3,4,5,6,7]]\n",
    "  test_y= test[8]\n",
    "\n",
    "  #Loading saved models and then using them further\n",
    "  name = \"model\"+str(i)+\".sav\"\n",
    "  filename = name\n",
    "  stored_model = joblib.load(filename)\n",
    "\n",
    "  #Calling predict function on training and validation data \n",
    "  basic_predicted_train = stored_model.predict(train_X)\n",
    "  basic_predicted = stored_model.predict(test_X)\n",
    "\n",
    "  #Calculatin sklearn mse on both training and validation data\n",
    "  basic_test_mse = mean_squared_error(test_y, basic_predicted, squared=True)\n",
    "  basic_train_mse = mean_squared_error(train_y, basic_predicted_train, squared=True)\n",
    "\n",
    "  #Appending foldwise sklearn mse values of training and validation data \n",
    "  train_inbuilt.append(basic_train_mse)\n",
    "  test_inbuilt.append(basic_test_mse)\n",
    "  i = i+1\n",
    "\n",
    "#Printing the list which contains foldwise sklearn mse values for training and validation set  \n",
    "print('Train mse',train_inbuilt,'\\n','Test mse',test_inbuilt,sep='\\t')"
   ]
  },
  {
   "cell_type": "code",
   "execution_count": 11,
   "metadata": {
    "colab": {
     "base_uri": "https://localhost:8080/"
    },
    "id": "_zlFVyegwg3q",
    "outputId": "138ec74a-f4fc-4cb1-cdf6-ab2e9b3cd514"
   },
   "outputs": [
    {
     "name": "stdout",
     "output_type": "stream",
     "text": [
      "Training mean 4.760779894434101 validation mean 5.28272669027793\n"
     ]
    }
   ],
   "source": [
    "#Calculating  mean of training sklearn mse values\n",
    "training_mean_inbuilt = sum(train_inbuilt)/len(train_inbuilt)\n",
    "\n",
    "#Calculating mean of validation sklearn mse values\n",
    "validation_mean_inbuilt = sum(test_inbuilt)/len(test_inbuilt)\n",
    "\n",
    "#Printing the mean value of training sklearn mse and validation mse\n",
    "print('Training mean',training_mean_inbuilt,'validation mean',validation_mean_inbuilt)"
   ]
  },
  {
   "cell_type": "markdown",
   "metadata": {
    "id": "LzA2MSUwA03W"
   },
   "source": [
    "C. Normal Equations"
   ]
  },
  {
   "cell_type": "code",
   "execution_count": 12,
   "metadata": {
    "id": "cCKDU0XV2QIA"
   },
   "outputs": [],
   "source": [
    "#Function to calculate coefficients on given data using normal equation and returning those coefficients\n",
    "def normal_equation_coefficients(X_data,y_data):\n",
    "  X_data_numpy = X_data.to_numpy()\n",
    "  y_data_numpy = y_data.to_numpy()\n",
    "  product_x_value = np.dot(X_data_numpy.T,X_data_numpy)\n",
    "  inverse_value = np.linalg.inv(product_x_value)\n",
    "  product_x_y = np.dot(X_data_numpy.T,y_data_numpy)\n",
    "  normal_coefficients = np.dot(inverse_value,product_x_y)\n",
    "  \n",
    "  return normal_coefficients "
   ]
  },
  {
   "cell_type": "code",
   "execution_count": 13,
   "metadata": {
    "id": "8Z6mAWUcA8Af"
   },
   "outputs": [],
   "source": [
    "#Function to give predicted values on given data using normal coefficients\n",
    "def normal_predict(test_data,coeff_normal):\n",
    "  test_data_numpy = test_data.to_numpy()\n",
    "  y_normal_predict = np.dot(test_data_numpy,coeff_normal.T)\n",
    "\n",
    "  return y_normal_predict"
   ]
  },
  {
   "cell_type": "code",
   "execution_count": 14,
   "metadata": {
    "colab": {
     "base_uri": "https://localhost:8080/"
    },
    "id": "8NINuLYJ2QES",
    "outputId": "2290bd70-6f0a-4700-94e9-8605a12fea63"
   },
   "outputs": [
    {
     "name": "stdout",
     "output_type": "stream",
     "text": [
      "Train mse [3.7620280521240543, 5.307209308009528, 4.6140454527084085, 5.064279618471935, 5.0294375742481945] \n",
      " Test mse [9.774942685472633, 2.9885931775415915, 5.80649735600861, 3.8227890471281936, 3.9534433229186567]\n"
     ]
    }
   ],
   "source": [
    "#List to store mse values foldwise for training set and validation set  \n",
    "train_normal_fold=[]\n",
    "test_normal_fold =[]\n",
    "\n",
    "#Loop to implement mse function on each 5-folds\n",
    "for x in range(len(data_list)):\n",
    "\n",
    "  #making copy of the data\n",
    "  data = copy(data_list)\n",
    "\n",
    "  #Data splitting in training and validation set. At every fold values get change\n",
    "  test = data.pop(x)\n",
    "  train = pd.concat(data)\n",
    "  train_X = train[['0_F','0_I','0_M',1,2,3,4,5,6,7]]\n",
    "  train_y = train[8]\n",
    "  test_X = test[['0_F','0_I','0_M',1,2,3,4,5,6,7]]\n",
    "  test_y = test[8]\n",
    "\n",
    "  #Calculating normal coefficients on training data\n",
    "  normal_coeff = normal_equation_coefficients(train_X,train_y)\n",
    "\n",
    "  #Calling normal predict function to get predicted values for training and validation set\n",
    "  y_normal_predict_train = normal_predict(train_X,normal_coeff)\n",
    "  y_normal_predict_test = normal_predict(test_X,normal_coeff)\n",
    "\n",
    "  #Calculating mse on training and validation set\n",
    "  train_normal_mse = MSE(train_y,y_normal_predict_train)\n",
    "  test_normal_mse = MSE(test_y,y_normal_predict_test)\n",
    "\n",
    "  #Appending foldwise values of mse\n",
    "  train_normal_fold.append(train_normal_mse)\n",
    "  test_normal_fold.append(test_normal_mse)\n",
    "\n",
    "#Printing foldwise values of training and validation set  \n",
    "print(\"Train mse\",train_normal_fold,'\\n','Test mse',test_normal_fold)"
   ]
  },
  {
   "cell_type": "code",
   "execution_count": 15,
   "metadata": {
    "colab": {
     "base_uri": "https://localhost:8080/"
    },
    "id": "xsh5K7bm58CB",
    "outputId": "fad20338-7963-4912-bec4-d88657c6ff9f"
   },
   "outputs": [
    {
     "name": "stdout",
     "output_type": "stream",
     "text": [
      "Training mean 4.755400001112425 validation mean 5.269253117813937\n"
     ]
    }
   ],
   "source": [
    "#Calculating mean on training set\n",
    "training_mean_normal = sum(train_normal_fold)/len(train_normal_fold)\n",
    "\n",
    "#Calculating mean on validation set\n",
    "validation_mean_normal = sum(test_normal_fold)/len(test_normal_fold)\n",
    "\n",
    "#Printing training and validation mean\n",
    "print('Training mean',training_mean_normal,'validation mean',validation_mean_normal)"
   ]
  },
  {
   "cell_type": "code",
   "execution_count": 14,
   "metadata": {
    "id": "XSTF5jG2_aUv"
   },
   "outputs": [],
   "source": []
  },
  {
   "cell_type": "markdown",
   "metadata": {
    "id": "7TWcPSvwBWJz"
   },
   "source": [
    "D. Sklearn Linear Regression model"
   ]
  },
  {
   "cell_type": "markdown",
   "metadata": {
    "id": "GZVUu8XSUGi-"
   },
   "source": [
    "Making model and fitting using sklearn regression class and saving those models using joblib"
   ]
  },
  {
   "cell_type": "code",
   "execution_count": 25,
   "metadata": {
    "colab": {
     "base_uri": "https://localhost:8080/"
    },
    "id": "GJWtdSph_aDq",
    "outputId": "7fe8a52d-f3d1-4042-babd-ce9589586202"
   },
   "outputs": [
    {
     "name": "stdout",
     "output_type": "stream",
     "text": [
      "Train mse [3.7614291207371484, 5.311082069833134, 4.651528827446872, 5.078056310329991, 5.03635660198887] \n",
      " Validation mse [9.791404322574014, 2.9840286473908493, 5.87013704582835, 3.8447499252392343, 3.9812899769282715]\n"
     ]
    }
   ],
   "source": [
    "#List to store mse values foldwise for training set and validation set  \n",
    "train_sklearn_fold=[]\n",
    "test_sklearn_fold =[]\n",
    "\n",
    "i = 0\n",
    "\n",
    "for x in range(len(data_list)):\n",
    "\n",
    "  #Making the copy of the data\n",
    "  data = copy(data_list)\n",
    "\n",
    "  #Data splitting in training and validation set. At every fold values get change\n",
    "  test = data.pop(x)\n",
    "  train = pd.concat(data)\n",
    "  train_X = train[['0_F','0_I','0_M',1,2,3,4,5,6,7]]\n",
    "  train_y = train[8]\n",
    "  test_X = test[['0_F','0_I','0_M',1,2,3,4,5,6,7]]\n",
    "  test_y = test[8]\n",
    "\n",
    "  #Fitting the model using sklearn linear regression on training set\n",
    "  sklearn_linear = LinearRegression().fit(train_X, train_y)\n",
    "\n",
    "  #Saving the model foldwise\n",
    "  name = \"sklearnmodel\"+str(i)+\".sav\"\n",
    "  filename = name\n",
    "  joblib.dump(sklearn_linear,filename)\n",
    "\n",
    "  #Calling cklearn predict function to get predicted values on training and validation set\n",
    "  sklearn_predicted_train = sklearn_linear.predict(train_X)\n",
    "  sklearn_predicted_test = sklearn_linear.predict(test_X) \n",
    "\n",
    "  #Calculating mse using sklearn mean squared error on training and validation set\n",
    "  sklearn_test_mse = mean_squared_error(test_y, sklearn_predicted_test, squared=True)\n",
    "  sklearn_train_mse = mean_squared_error(train_y, sklearn_predicted_train, squared=True)\n",
    "\n",
    "  #Appneding mse values foldwise\n",
    "  train_sklearn_fold.append(sklearn_train_mse)\n",
    "  test_sklearn_fold.append(sklearn_test_mse)\n",
    "  i = i+1\n",
    "  \n",
    "\n",
    "#Printing mse training and validation values foldwise\n",
    "print(\"Train mse\",train_sklearn_fold,'\\n','Validation mse',test_sklearn_fold)"
   ]
  },
  {
   "cell_type": "markdown",
   "metadata": {
    "id": "ght8Nx7-WO53"
   },
   "source": [
    "Using sklearn linear regression class as above but instead of training using saved model those were saved earlier using joblib"
   ]
  },
  {
   "cell_type": "code",
   "execution_count": 16,
   "metadata": {
    "colab": {
     "base_uri": "https://localhost:8080/"
    },
    "id": "tF0hnVo9WYq0",
    "outputId": "11c2395f-88b4-4349-f5ee-48d369631bd1"
   },
   "outputs": [
    {
     "name": "stdout",
     "output_type": "stream",
     "text": [
      "Train mse [3.7614291207371484, 5.311082069833134, 4.651528827446872, 5.078056310329991, 5.03635660198887] \n",
      " Validation mse [9.791404322574014, 2.9840286473908493, 5.87013704582835, 3.8447499252392343, 3.9812899769282715]\n"
     ]
    }
   ],
   "source": [
    "#List to store mse values foldwise for training set and validation set  \n",
    "train_sklearn_fold=[]\n",
    "test_sklearn_fold =[]\n",
    "\n",
    "i = 0\n",
    "\n",
    "for x in range(len(data_list)):\n",
    "\n",
    "  #Making the copy of the data\n",
    "  data = copy(data_list)\n",
    "\n",
    "  #Data splitting in training and validation set. At every fold values get change\n",
    "  test = data.pop(x)\n",
    "  train = pd.concat(data)\n",
    "  train_X = train[['0_F','0_I','0_M',1,2,3,4,5,6,7]]\n",
    "  train_y = train[8]\n",
    "  test_X = test[['0_F','0_I','0_M',1,2,3,4,5,6,7]]\n",
    "  test_y = test[8]\n",
    "\n",
    "  # Fitting the model using sklearn linear regression on training set\n",
    "  # sklearn_linear = LinearRegression().fit(train_X, train_y)\n",
    "\n",
    "  #Loading saved models and then using them further\n",
    "  name = \"sklearnmodel\"+str(i)+\".sav\"\n",
    "  filename = name\n",
    "  stored_model = joblib.load(filename)\n",
    "\n",
    "  #Calling cklearn predict function to get predicted values on training and validation set\n",
    "  sklearn_predicted_train = stored_model.predict(train_X)\n",
    "  sklearn_predicted_test = stored_model.predict(test_X) \n",
    "\n",
    "  #Calculating mse using sklearn mean squared error on training and validation set\n",
    "  sklearn_test_mse = mean_squared_error(test_y, sklearn_predicted_test, squared=True)\n",
    "  sklearn_train_mse = mean_squared_error(train_y, sklearn_predicted_train, squared=True)\n",
    "\n",
    "  #Appneding mse values foldwise\n",
    "  train_sklearn_fold.append(sklearn_train_mse)\n",
    "  test_sklearn_fold.append(sklearn_test_mse)\n",
    "  i = i+1\n",
    "  \n",
    "\n",
    "#Printing mse training and validation values foldwise\n",
    "print(\"Train mse\",train_sklearn_fold,'\\n','Validation mse',test_sklearn_fold)"
   ]
  },
  {
   "cell_type": "code",
   "execution_count": 17,
   "metadata": {
    "colab": {
     "base_uri": "https://localhost:8080/"
    },
    "id": "QugI8ARyxQGi",
    "outputId": "b4e94896-1121-41e0-e1f4-0a0464ecd517"
   },
   "outputs": [
    {
     "name": "stdout",
     "output_type": "stream",
     "text": [
      "Training mean 4.767690586067203 validation mean 5.294321983592143\n"
     ]
    }
   ],
   "source": [
    "training_mean_sklearn = sum(train_sklearn_fold)/len(train_sklearn_fold)\n",
    "validation_mean_sklearn = sum(test_sklearn_fold)/len(test_sklearn_fold)\n",
    "\n",
    "print('Training mean',training_mean_sklearn,'validation mean',validation_mean_sklearn)"
   ]
  },
  {
   "cell_type": "code",
   "execution_count": null,
   "metadata": {
    "id": "NBC2JwrkW9-e"
   },
   "outputs": [],
   "source": []
  }
 ],
 "metadata": {
  "colab": {
   "collapsed_sections": [],
   "name": "MLAssignment2_Q1.ipynb",
   "provenance": []
  },
  "kernelspec": {
   "display_name": "Python 3",
   "language": "python",
   "name": "python3"
  },
  "language_info": {
   "codemirror_mode": {
    "name": "ipython",
    "version": 3
   },
   "file_extension": ".py",
   "mimetype": "text/x-python",
   "name": "python",
   "nbconvert_exporter": "python",
   "pygments_lexer": "ipython3",
   "version": "3.8.8"
  }
 },
 "nbformat": 4,
 "nbformat_minor": 1
}
